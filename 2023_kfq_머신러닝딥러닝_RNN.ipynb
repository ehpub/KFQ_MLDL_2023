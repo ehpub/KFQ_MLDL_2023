{
  "nbformat": 4,
  "nbformat_minor": 0,
  "metadata": {
    "colab": {
      "provenance": [],
      "authorship_tag": "ABX9TyOZGZj09b4Cz0D9yaeviWzz",
      "include_colab_link": true
    },
    "kernelspec": {
      "name": "python3",
      "display_name": "Python 3"
    },
    "language_info": {
      "name": "python"
    }
  },
  "cells": [
    {
      "cell_type": "markdown",
      "metadata": {
        "id": "view-in-github",
        "colab_type": "text"
      },
      "source": [
        "<a href=\"https://colab.research.google.com/github/ehpub/KFQ_MLDL_2023/blob/main/2023_kfq_%EB%A8%B8%EC%8B%A0%EB%9F%AC%EB%8B%9D%EB%94%A5%EB%9F%AC%EB%8B%9D_RNN.ipynb\" target=\"_parent\"><img src=\"https://colab.research.google.com/assets/colab-badge.svg\" alt=\"Open In Colab\"/></a>"
      ]
    },
    {
      "cell_type": "markdown",
      "source": [
        "강의 교재 : https://wikibook.co.kr/mymlrev/"
      ],
      "metadata": {
        "id": "peNU579totu-"
      }
    },
    {
      "cell_type": "code",
      "source": [
        "import numpy as np\n",
        "import tensorflow as tf\n",
        "from tensorflow import keras\n",
        "from keras.layers import Input, Dense, SimpleRNN,Dropout\n",
        "from keras.layers import Embedding\n",
        "from keras import models\n",
        "from keras.datasets import imdb\n",
        "from keras.utils import pad_sequences"
      ],
      "metadata": {
        "id": "GiRxQQKQo1rR"
      },
      "execution_count": 1,
      "outputs": []
    },
    {
      "cell_type": "markdown",
      "source": [
        "##워드 임베딩"
      ],
      "metadata": {
        "id": "PCRgXDY9PQEc"
      }
    },
    {
      "cell_type": "code",
      "source": [
        "(x_train,y_train),(x_test,y_test) = imdb.load_data(num_words=30000)"
      ],
      "metadata": {
        "id": "NhsjhkCqpNjU"
      },
      "execution_count": 2,
      "outputs": []
    },
    {
      "cell_type": "code",
      "source": [
        "print(x_train[0])"
      ],
      "metadata": {
        "colab": {
          "base_uri": "https://localhost:8080/"
        },
        "id": "p_cfd0xwQIvd",
        "outputId": "c4012fa7-cc8e-461b-e40c-437fa21cf436"
      },
      "execution_count": 12,
      "outputs": [
        {
          "output_type": "stream",
          "name": "stdout",
          "text": [
            "[1, 14, 22, 16, 43, 530, 973, 1622, 1385, 65, 458, 4468, 66, 3941, 4, 173, 36, 256, 5, 25, 100, 43, 838, 112, 50, 670, 22665, 9, 35, 480, 284, 5, 150, 4, 172, 112, 167, 21631, 336, 385, 39, 4, 172, 4536, 1111, 17, 546, 38, 13, 447, 4, 192, 50, 16, 6, 147, 2025, 19, 14, 22, 4, 1920, 4613, 469, 4, 22, 71, 87, 12, 16, 43, 530, 38, 76, 15, 13, 1247, 4, 22, 17, 515, 17, 12, 16, 626, 18, 19193, 5, 62, 386, 12, 8, 316, 8, 106, 5, 4, 2223, 5244, 16, 480, 66, 3785, 33, 4, 130, 12, 16, 38, 619, 5, 25, 124, 51, 36, 135, 48, 25, 1415, 33, 6, 22, 12, 215, 28, 77, 52, 5, 14, 407, 16, 82, 10311, 8, 4, 107, 117, 5952, 15, 256, 4, 2, 7, 3766, 5, 723, 36, 71, 43, 530, 476, 26, 400, 317, 46, 7, 4, 12118, 1029, 13, 104, 88, 4, 381, 15, 297, 98, 32, 2071, 56, 26, 141, 6, 194, 7486, 18, 4, 226, 22, 21, 134, 476, 26, 480, 5, 144, 30, 5535, 18, 51, 36, 28, 224, 92, 25, 104, 4, 226, 65, 16, 38, 1334, 88, 12, 16, 283, 5, 16, 4472, 113, 103, 32, 15, 16, 5345, 19, 178, 32]\n"
          ]
        }
      ]
    },
    {
      "cell_type": "code",
      "source": [
        "max(max(x_train))"
      ],
      "metadata": {
        "colab": {
          "base_uri": "https://localhost:8080/"
        },
        "id": "FEqJ4rMkPY1h",
        "outputId": "5e17256d-6115-4fab-ad6a-a32e64d5f77a"
      },
      "execution_count": 13,
      "outputs": [
        {
          "output_type": "execute_result",
          "data": {
            "text/plain": [
              "29813"
            ]
          },
          "metadata": {},
          "execution_count": 13
        }
      ]
    },
    {
      "cell_type": "code",
      "source": [
        "word_dic = imdb.get_word_index()"
      ],
      "metadata": {
        "id": "KZBAsQYquqsS"
      },
      "execution_count": 14,
      "outputs": []
    },
    {
      "cell_type": "code",
      "source": [
        "word_dic['hello']"
      ],
      "metadata": {
        "colab": {
          "base_uri": "https://localhost:8080/"
        },
        "id": "mjvJVv7GvBJR",
        "outputId": "859e0bbe-b88d-4546-c979-f6826229e0e0"
      },
      "execution_count": 15,
      "outputs": [
        {
          "output_type": "execute_result",
          "data": {
            "text/plain": [
              "4822"
            ]
          },
          "metadata": {},
          "execution_count": 15
        }
      ]
    },
    {
      "cell_type": "code",
      "source": [
        "index_dic = {}\n",
        "for key,value in word_dic.items():\n",
        "  index_dic[value] = key"
      ],
      "metadata": {
        "id": "Fx8pyq7GvDfy"
      },
      "execution_count": 16,
      "outputs": []
    },
    {
      "cell_type": "code",
      "source": [
        "index_dic[4822]"
      ],
      "metadata": {
        "colab": {
          "base_uri": "https://localhost:8080/",
          "height": 35
        },
        "id": "rfUt7WemvgMY",
        "outputId": "92ab16e3-a786-4f1c-95a1-19b4e02ebdb7"
      },
      "execution_count": 17,
      "outputs": [
        {
          "output_type": "execute_result",
          "data": {
            "text/plain": [
              "'hello'"
            ],
            "application/vnd.google.colaboratory.intrinsic+json": {
              "type": "string"
            }
          },
          "metadata": {},
          "execution_count": 17
        }
      ]
    },
    {
      "cell_type": "code",
      "source": [
        "for i in x_train[0]:\n",
        "  print(index_dic[i],end=' ')"
      ],
      "metadata": {
        "colab": {
          "base_uri": "https://localhost:8080/"
        },
        "id": "vpWJR0TAvimb",
        "outputId": "aa82c866-55d1-4297-b257-a78001b571ac"
      },
      "execution_count": 18,
      "outputs": [
        {
          "output_type": "stream",
          "name": "stdout",
          "text": [
            "the as you with out themselves powerful lets loves their becomes reaching had journalist of lot from anyone to have after out atmosphere never more room titillate it so heart shows to years of every never going villaronga help moments or of every chest visual movie except her was several of enough more with is now current film as you of mine potentially unfortunately of you than him that with out themselves her get for was camp of you movie sometimes movie that with scary but pratfalls to story wonderful that in seeing in character to of 70s musicians with heart had shadows they of here that with her serious to have does when from why what have critics they is you that isn't one will very to as itself with other tricky in of seen over landed for anyone of and br show's to whether from than out themselves history he name half some br of 'n odd was two most of mean for 1 any an boat she he should is thought frog but of script you not while history he heart to real at barrel but when from one bit then have two of script their with her nobody most that with wasn't to with armed acting watch an for with heartfelt film want an "
          ]
        }
      ]
    },
    {
      "cell_type": "code",
      "source": [
        "index_dic[1],index_dic[2],index_dic[3]"
      ],
      "metadata": {
        "colab": {
          "base_uri": "https://localhost:8080/"
        },
        "id": "2QQvKQCCv3fz",
        "outputId": "eed787fb-b88d-4ff9-ad84-14ffd9691723"
      },
      "execution_count": 19,
      "outputs": [
        {
          "output_type": "execute_result",
          "data": {
            "text/plain": [
              "('the', 'and', 'a')"
            ]
          },
          "metadata": {},
          "execution_count": 19
        }
      ]
    },
    {
      "cell_type": "code",
      "source": [
        "for i in range(10):\n",
        "  print(len(x_train[i]),end=' ')"
      ],
      "metadata": {
        "colab": {
          "base_uri": "https://localhost:8080/"
        },
        "id": "dmJONLiMwFKf",
        "outputId": "a8fcf56f-acc8-46c4-bfa2-5b8cd5b2217f"
      },
      "execution_count": 20,
      "outputs": [
        {
          "output_type": "stream",
          "name": "stdout",
          "text": [
            "218 189 141 550 147 43 123 562 233 130 "
          ]
        }
      ]
    },
    {
      "cell_type": "code",
      "source": [
        "import matplotlib.pyplot as plt"
      ],
      "metadata": {
        "id": "w-a225loR-ib"
      },
      "execution_count": 21,
      "outputs": []
    },
    {
      "cell_type": "code",
      "source": [
        "ls = [len(x_train[i]) for i in range(len(x_train))]\n",
        "plt.hist(ls,bins=range(0,1000,40))\n",
        "plt.show()"
      ],
      "metadata": {
        "colab": {
          "base_uri": "https://localhost:8080/",
          "height": 430
        },
        "id": "DUJgBijLw0X7",
        "outputId": "8eb4c42d-17dd-4b26-e96a-6ff4aa651fcd"
      },
      "execution_count": 22,
      "outputs": [
        {
          "output_type": "display_data",
          "data": {
            "text/plain": [
              "<Figure size 640x480 with 1 Axes>"
            ],
            "image/png": "[encoded data removed]"
          },
          "metadata": {}
        }
      ]
    },
    {
      "cell_type": "code",
      "source": [
        "xseq_train = pad_sequences(x_train,maxlen=150)\n",
        "xseq_test = pad_sequences(x_test,maxlen=150)"
      ],
      "metadata": {
        "id": "vbP6Cg_axReA"
      },
      "execution_count": 23,
      "outputs": []
    },
    {
      "cell_type": "code",
      "source": [
        "for i in range(10):\n",
        "  print(len(xseq_train[i]),end=' ')"
      ],
      "metadata": {
        "colab": {
          "base_uri": "https://localhost:8080/"
        },
        "id": "9NEied-PxZpa",
        "outputId": "082001f3-f6b7-495a-c06b-5a00066dce9d"
      },
      "execution_count": 24,
      "outputs": [
        {
          "output_type": "stream",
          "name": "stdout",
          "text": [
            "150 150 150 150 150 150 150 150 150 150 "
          ]
        }
      ]
    },
    {
      "cell_type": "code",
      "source": [
        "xseq_train[5]"
      ],
      "metadata": {
        "colab": {
          "base_uri": "https://localhost:8080/",
          "height": 171
        },
        "id": "ZG4FMOUNx-RE",
        "outputId": "a40d80fd-9337-4ef5-ac90-55ff90836964"
      },
      "execution_count": 9,
      "outputs": [
        {
          "output_type": "error",
          "ename": "NameError",
          "evalue": "ignored",
          "traceback": [
            "\u001b[0;31m---------------------------------------------------------------------------\u001b[0m",
            "\u001b[0;31mNameError\u001b[0m                                 Traceback (most recent call last)",
            "\u001b[0;32m<ipython-input-9-465b470e522f>\u001b[0m in \u001b[0;36m<cell line: 1>\u001b[0;34m()\u001b[0m\n\u001b[0;32m----> 1\u001b[0;31m \u001b[0mxseq_train\u001b[0m\u001b[0;34m[\u001b[0m\u001b[0;36m5\u001b[0m\u001b[0;34m]\u001b[0m\u001b[0;34m\u001b[0m\u001b[0;34m\u001b[0m\u001b[0m\n\u001b[0m",
            "\u001b[0;31mNameError\u001b[0m: name 'xseq_train' is not defined"
          ]
        }
      ]
    },
    {
      "cell_type": "code",
      "source": [
        "xseq_train.shape, xseq_test.shape"
      ],
      "metadata": {
        "colab": {
          "base_uri": "https://localhost:8080/"
        },
        "id": "3O0p5u4eyH0o",
        "outputId": "bba1575d-7af1-4990-f825-b9e7b733ee23"
      },
      "execution_count": 34,
      "outputs": [
        {
          "output_type": "execute_result",
          "data": {
            "text/plain": [
              "((25000, 150), (25000, 150))"
            ]
          },
          "metadata": {},
          "execution_count": 34
        }
      ]
    },
    {
      "cell_type": "code",
      "source": [
        "np.unique(y_train)"
      ],
      "metadata": {
        "colab": {
          "base_uri": "https://localhost:8080/"
        },
        "id": "naOyNTyizZF1",
        "outputId": "21bd346b-2032-4ec3-fb9b-eccfd644122b"
      },
      "execution_count": 18,
      "outputs": [
        {
          "output_type": "execute_result",
          "data": {
            "text/plain": [
              "array([0, 1])"
            ]
          },
          "metadata": {},
          "execution_count": 18
        }
      ]
    },
    {
      "cell_type": "code",
      "source": [
        "model = keras.Sequential()\n",
        "em=Embedding(30000,16,input_length=150)\n",
        "rnn = SimpleRNN(20)\n",
        "dense = Dense(1,activation='sigmoid')\n",
        "model.add(em)\n",
        "model.add(rnn)\n",
        "model.add(dense)"
      ],
      "metadata": {
        "id": "GvECb_z4ycCZ"
      },
      "execution_count": 35,
      "outputs": []
    },
    {
      "cell_type": "code",
      "source": [
        "model.compile(loss=keras.losses.binary_crossentropy,\n",
        "              metrics=['accuracy'])"
      ],
      "metadata": {
        "id": "rJpG0bqV1KD9"
      },
      "execution_count": 36,
      "outputs": []
    },
    {
      "cell_type": "code",
      "source": [
        "cp = keras.callbacks.EarlyStopping(patience=20,\n",
        "                                   restore_best_weights=True)\n",
        "hist = model.fit(xseq_train,y_train,callbacks=[cp],\n",
        "                 validation_split=0.2,\n",
        "                 epochs=1000)"
      ],
      "metadata": {
        "colab": {
          "base_uri": "https://localhost:8080/"
        },
        "id": "TgFXDOQr1ZTG",
        "outputId": "e4724214-5e3e-4244-a1b0-56734fd9b244"
      },
      "execution_count": 37,
      "outputs": [
        {
          "output_type": "stream",
          "name": "stdout",
          "text": [
            "Epoch 1/1000\n",
            "625/625 [==============================] - 29s 44ms/step - loss: 0.5221 - accuracy: 0.7326 - val_loss: 0.4887 - val_accuracy: 0.7946\n",
            "Epoch 2/1000\n",
            "625/625 [==============================] - 25s 40ms/step - loss: 0.3225 - accuracy: 0.8701 - val_loss: 0.3572 - val_accuracy: 0.8514\n",
            "Epoch 3/1000\n",
            "625/625 [==============================] - 24s 38ms/step - loss: 0.2606 - accuracy: 0.8993 - val_loss: 0.3546 - val_accuracy: 0.8420\n",
            "Epoch 4/1000\n",
            "625/625 [==============================] - 24s 38ms/step - loss: 0.2083 - accuracy: 0.9225 - val_loss: 0.3604 - val_accuracy: 0.8484\n",
            "Epoch 5/1000\n",
            "625/625 [==============================] - 25s 40ms/step - loss: 0.1666 - accuracy: 0.9398 - val_loss: 0.3736 - val_accuracy: 0.8592\n",
            "Epoch 6/1000\n",
            "625/625 [==============================] - 25s 40ms/step - loss: 0.1294 - accuracy: 0.9536 - val_loss: 0.4537 - val_accuracy: 0.8168\n",
            "Epoch 7/1000\n",
            "625/625 [==============================] - 26s 42ms/step - loss: 0.0990 - accuracy: 0.9655 - val_loss: 0.4789 - val_accuracy: 0.8498\n",
            "Epoch 8/1000\n",
            "625/625 [==============================] - 26s 42ms/step - loss: 0.0735 - accuracy: 0.9755 - val_loss: 0.5047 - val_accuracy: 0.8542\n",
            "Epoch 9/1000\n",
            "625/625 [==============================] - 25s 40ms/step - loss: 0.0551 - accuracy: 0.9816 - val_loss: 0.5207 - val_accuracy: 0.8388\n",
            "Epoch 10/1000\n",
            "625/625 [==============================] - 26s 42ms/step - loss: 0.0452 - accuracy: 0.9858 - val_loss: 0.5881 - val_accuracy: 0.8380\n",
            "Epoch 11/1000\n",
            "625/625 [==============================] - 26s 42ms/step - loss: 0.0335 - accuracy: 0.9894 - val_loss: 0.6120 - val_accuracy: 0.8444\n",
            "Epoch 12/1000\n",
            "625/625 [==============================] - 25s 40ms/step - loss: 0.0278 - accuracy: 0.9905 - val_loss: 0.6438 - val_accuracy: 0.8348\n",
            "Epoch 13/1000\n",
            "625/625 [==============================] - 25s 40ms/step - loss: 0.0194 - accuracy: 0.9937 - val_loss: 0.7732 - val_accuracy: 0.8064\n",
            "Epoch 14/1000\n",
            "625/625 [==============================] - 25s 40ms/step - loss: 0.0187 - accuracy: 0.9938 - val_loss: 0.7725 - val_accuracy: 0.8112\n",
            "Epoch 15/1000\n",
            "625/625 [==============================] - 25s 39ms/step - loss: 0.0173 - accuracy: 0.9949 - val_loss: 0.8166 - val_accuracy: 0.8084\n",
            "Epoch 16/1000\n",
            "625/625 [==============================] - 24s 38ms/step - loss: 0.0131 - accuracy: 0.9964 - val_loss: 0.9234 - val_accuracy: 0.7948\n",
            "Epoch 17/1000\n",
            "625/625 [==============================] - 25s 41ms/step - loss: 0.0100 - accuracy: 0.9966 - val_loss: 0.8885 - val_accuracy: 0.8304\n",
            "Epoch 18/1000\n",
            "625/625 [==============================] - 27s 43ms/step - loss: 0.0100 - accuracy: 0.9965 - val_loss: 0.9840 - val_accuracy: 0.7956\n",
            "Epoch 19/1000\n",
            "625/625 [==============================] - 26s 42ms/step - loss: 0.0092 - accuracy: 0.9974 - val_loss: 0.9578 - val_accuracy: 0.8248\n",
            "Epoch 20/1000\n",
            "625/625 [==============================] - 26s 42ms/step - loss: 0.0060 - accuracy: 0.9983 - val_loss: 0.9932 - val_accuracy: 0.8062\n",
            "Epoch 21/1000\n",
            "625/625 [==============================] - 25s 40ms/step - loss: 0.0088 - accuracy: 0.9978 - val_loss: 1.0026 - val_accuracy: 0.8190\n",
            "Epoch 22/1000\n",
            "625/625 [==============================] - 26s 42ms/step - loss: 0.0064 - accuracy: 0.9980 - val_loss: 1.0602 - val_accuracy: 0.8176\n",
            "Epoch 23/1000\n",
            "625/625 [==============================] - 26s 42ms/step - loss: 0.0124 - accuracy: 0.9966 - val_loss: 1.1164 - val_accuracy: 0.8138\n"
          ]
        }
      ]
    },
    {
      "cell_type": "code",
      "source": [
        "plt.plot(hist.history['loss'],label='loss')\n",
        "plt.plot(hist.history['val_loss'],label='val loss')\n",
        "plt.show()"
      ],
      "metadata": {
        "colab": {
          "base_uri": "https://localhost:8080/",
          "height": 430
        },
        "id": "UTkAfrUp12G6",
        "outputId": "fedde182-ed65-4ed2-eb3c-ea7f1edec6c7"
      },
      "execution_count": 39,
      "outputs": [
        {
          "output_type": "display_data",
          "data": {
            "text/plain": [
              "<Figure size 640x480 with 1 Axes>"
            ],
            "image/png": "[encoded data removed]"
          },
          "metadata": {}
        }
      ]
    },
    {
      "cell_type": "code",
      "source": [
        "model = keras.Sequential()\n",
        "em=Embedding(30000,16,input_length=150)\n",
        "rnn = SimpleRNN(20)\n",
        "drop = Dropout(0.6)\n",
        "dense = Dense(1,activation='sigmoid')\n",
        "model.add(em)\n",
        "model.add(rnn)\n",
        "model.add(drop)\n",
        "model.add(dense)"
      ],
      "metadata": {
        "id": "V6b3-PspZKyZ"
      },
      "execution_count": 47,
      "outputs": []
    },
    {
      "cell_type": "code",
      "source": [
        "model.compile(loss = keras.losses.binary_crossentropy)"
      ],
      "metadata": {
        "id": "lgFMLzgEZ0BG"
      },
      "execution_count": 48,
      "outputs": []
    },
    {
      "cell_type": "code",
      "source": [
        "cp = keras.callbacks.EarlyStopping(patience=10,\n",
        "                                   restore_best_weights=True)\n",
        "hist = model.fit(xseq_train,y_train,callbacks=[cp],\n",
        "                 validation_split=0.2,\n",
        "                 epochs=1000)"
      ],
      "metadata": {
        "colab": {
          "base_uri": "https://localhost:8080/"
        },
        "id": "hevwQa-EaC8S",
        "outputId": "81cc1c49-800a-40e4-9eb8-49429adf2ba5"
      },
      "execution_count": 49,
      "outputs": [
        {
          "output_type": "stream",
          "name": "stdout",
          "text": [
            "Epoch 1/1000\n",
            "625/625 [==============================] - 26s 41ms/step - loss: 0.5532 - val_loss: 0.4064\n",
            "Epoch 2/1000\n",
            "625/625 [==============================] - 25s 40ms/step - loss: 0.3639 - val_loss: 0.4069\n",
            "Epoch 3/1000\n",
            "625/625 [==============================] - 25s 40ms/step - loss: 0.3039 - val_loss: 0.3615\n",
            "Epoch 4/1000\n",
            "625/625 [==============================] - 25s 41ms/step - loss: 0.2701 - val_loss: 0.3977\n",
            "Epoch 5/1000\n",
            "625/625 [==============================] - 24s 39ms/step - loss: 0.2450 - val_loss: 0.3518\n",
            "Epoch 6/1000\n",
            "625/625 [==============================] - 25s 40ms/step - loss: 0.2177 - val_loss: 0.3932\n",
            "Epoch 7/1000\n",
            "625/625 [==============================] - 26s 41ms/step - loss: 0.1864 - val_loss: 0.3684\n",
            "Epoch 8/1000\n",
            "625/625 [==============================] - 26s 41ms/step - loss: 0.1630 - val_loss: 0.4094\n",
            "Epoch 9/1000\n",
            "625/625 [==============================] - 26s 42ms/step - loss: 0.1399 - val_loss: 0.5341\n",
            "Epoch 10/1000\n",
            "625/625 [==============================] - 26s 42ms/step - loss: 0.1235 - val_loss: 0.4631\n",
            "Epoch 11/1000\n",
            "625/625 [==============================] - 25s 40ms/step - loss: 0.1055 - val_loss: 0.5106\n",
            "Epoch 12/1000\n",
            "625/625 [==============================] - 25s 40ms/step - loss: 0.0861 - val_loss: 0.5477\n",
            "Epoch 13/1000\n",
            "625/625 [==============================] - 26s 41ms/step - loss: 0.0738 - val_loss: 0.6310\n",
            "Epoch 14/1000\n",
            "625/625 [==============================] - 28s 44ms/step - loss: 0.0665 - val_loss: 0.6716\n",
            "Epoch 15/1000\n",
            "625/625 [==============================] - 26s 42ms/step - loss: 0.0570 - val_loss: 0.7060\n"
          ]
        }
      ]
    },
    {
      "cell_type": "code",
      "source": [
        "plt.plot(hist.history['loss'],label='loss')\n",
        "plt.plot(hist.history['val_loss'],label='val loss')\n",
        "plt.show()"
      ],
      "metadata": {
        "colab": {
          "base_uri": "https://localhost:8080/",
          "height": 430
        },
        "id": "w49Ahrt8aJzq",
        "outputId": "f023ec36-bfa0-4c7a-be58-f159a5b2fb85"
      },
      "execution_count": 50,
      "outputs": [
        {
          "output_type": "display_data",
          "data": {
            "text/plain": [
              "<Figure size 640x480 with 1 Axes>"
            ],
            "image/png": "[encoded data removed]"
          },
          "metadata": {}
        }
      ]
    },
    {
      "cell_type": "markdown",
      "source": [
        "## 원핫인코딩"
      ],
      "metadata": {
        "id": "Cu4MUgDWKsYf"
      }
    },
    {
      "cell_type": "code",
      "source": [
        "import numpy as np\n",
        "import tensorflow as tf\n",
        "from tensorflow import keras\n",
        "from keras.layers import Input, Dense, SimpleRNN,Dropout\n",
        "from keras.layers import Embedding\n",
        "from keras import models\n",
        "from keras.datasets import imdb\n",
        "from keras.utils import pad_sequences\n",
        "import gc"
      ],
      "metadata": {
        "id": "LkL5qLYHkfOk"
      },
      "execution_count": 1,
      "outputs": []
    },
    {
      "cell_type": "code",
      "source": [
        "(x_train,y_train),(x_test,y_test) = imdb.load_data(num_words=30000)\n",
        "xseq_train = pad_sequences(x_train,maxlen=150)\n",
        "xseq_test = pad_sequences(x_test,maxlen=150)"
      ],
      "metadata": {
        "colab": {
          "base_uri": "https://localhost:8080/"
        },
        "id": "tW7fw-neipfU",
        "outputId": "1f27cccf-d354-424c-a3a1-7e86e339a04c"
      },
      "execution_count": 2,
      "outputs": [
        {
          "output_type": "stream",
          "name": "stdout",
          "text": [
            "Downloading data from https://storage.googleapis.com/tensorflow/tf-keras-datasets/imdb.npz\n",
            "17464789/17464789 [==============================] - 0s 0us/step\n"
          ]
        }
      ]
    },
    {
      "cell_type": "code",
      "source": [
        "model = keras.Sequential()\n",
        "rnn = SimpleRNN(20,input_shape=(150,30000))\n",
        "drop = Dropout(0.6)\n",
        "dense = Dense(1,activation='sigmoid')\n",
        "model.add(rnn)\n",
        "model.add(drop)\n",
        "model.add(dense)\n",
        "model.compile(loss = keras.losses.binary_crossentropy)\n",
        "cp = keras.callbacks.ModelCheckpoint('cp.h5',save_best_only=True)"
      ],
      "metadata": {
        "id": "_lI_QmGnfxAr"
      },
      "execution_count": 3,
      "outputs": []
    },
    {
      "cell_type": "code",
      "source": [
        "for i in range(250):\n",
        "  print(i,end=' ')\n",
        "  xtemp = xseq_train[i*100:(i+1)*100]\n",
        "  xo_train = keras.utils.to_categorical(xtemp,\n",
        "                                        num_classes=30000)\n",
        "  yo_train = y_train[i*100:(i+1)*100]\n",
        "  model.fit(xo_train,yo_train,\n",
        "            callbacks=[cp],\n",
        "            validation_split=0.1,verbose=0)\n",
        "  del xo_train\n",
        "  print(gc.get_count())\n",
        "  gc.collect()"
      ],
      "metadata": {
        "colab": {
          "base_uri": "https://localhost:8080/",
          "height": 1000
        },
        "id": "OEyMm8ssfBQh",
        "outputId": "e4a3458d-815c-4557-f511-d93572159724"
      },
      "execution_count": 4,
      "outputs": [
        {
          "output_type": "stream",
          "name": "stdout",
          "text": [
            "0 (549, 1, 10)\n",
            "1 (127, 3, 0)\n",
            "2 (316, 3, 0)\n",
            "3 (84, 3, 0)\n",
            "4 (333, 3, 0)\n",
            "5 (187, 3, 0)\n",
            "6 (180, 3, 0)\n",
            "7 (181, 3, 0)\n",
            "8 (117, 3, 0)\n",
            "9 (119, 3, 0)\n",
            "10 (114, 3, 0)\n",
            "11 (237, 3, 0)\n",
            "12 (117, 3, 0)\n",
            "13 (230, 3, 0)\n",
            "14 (120, 3, 0)\n",
            "15 (102, 3, 0)\n",
            "16 (55, 3, 0)\n",
            "17 (313, 3, 0)\n",
            "18 (280, 3, 0)\n",
            "19 (104, 3, 0)\n",
            "20 (67, 3, 0)\n",
            "21 (327, 3, 0)\n",
            "22 (78, 3, 0)\n",
            "23 (232, 3, 0)\n",
            "24 (235, 3, 0)\n",
            "25 (114, 3, 0)\n",
            "26 (78, 3, 0)\n",
            "27 (143, 3, 0)\n",
            "28 (400, 3, 0)\n",
            "29 (100, 3, 0)\n",
            "30 (288, 3, 0)\n",
            "31 (78, 3, 0)\n",
            "32 (78, 3, 0)\n",
            "33 (104, 3, 0)\n",
            "34 (232, 3, 0)\n",
            "35 (63, 3, 0)\n",
            "36 (118, 3, 0)\n",
            "37 (104, 3, 0)\n",
            "38 (334, 3, 0)\n",
            "39 (237, 3, 0)\n",
            "40 (327, 3, 0)\n",
            "41 (59, 3, 0)\n",
            "42 (104, 3, 0)\n",
            "43 (65, 3, 0)\n",
            "44 (117, 3, 0)\n",
            "45 (117, 3, 0)\n",
            "46 (356, 3, 0)\n",
            "47 (78, 3, 0)\n",
            "48 (118, 3, 0)\n",
            "49 (65, 3, 0)\n",
            "50 (71, 3, 0)\n",
            "51 (104, 3, 0)\n",
            "52 (69, 3, 0)\n",
            "53 (72, 3, 0)\n",
            "54 (67, 3, 0)\n",
            "55 (331, 3, 0)\n",
            "56 (232, 3, 0)\n",
            "57 (69, 3, 0)\n",
            "58 (67, 3, 0)\n",
            "59 (117, 3, 0)\n",
            "60 (208, 3, 0)\n",
            "61 (119, 3, 0)\n",
            "62 (114, 3, 0)\n",
            "63 (67, 3, 0)\n",
            "64 (145, 3, 0)\n",
            "65 (327, 3, 0)\n",
            "66 (104, 3, 0)\n",
            "67 (67, 3, 0)\n",
            "68 (81, 3, 0)\n",
            "69 (232, 3, 0)\n",
            "70 (65, 3, 0)\n",
            "71 (235, 3, 0)\n",
            "72 (209, 3, 0)\n",
            "73 (114, 3, 0)\n",
            "74 (72, 3, 0)\n",
            "75 (264, 3, 0)\n",
            "76 (140, 3, 0)\n",
            "77 (81, 3, 0)\n",
            "78 (117, 3, 0)\n",
            "79 (327, 3, 0)\n",
            "80 (113, 3, 0)\n",
            "81 (325, 3, 0)\n",
            "82 (60, 3, 0)\n",
            "83 (72, 3, 0)\n",
            "84 (353, 3, 0)\n",
            "85 (275, 3, 0)\n",
            "86 (63, 3, 0)\n",
            "87 (239, 3, 0)\n",
            "88 (60, 3, 0)\n",
            "89 (100, 3, 0)\n",
            "90 (81, 3, 0)\n",
            "91 (232, 3, 0)\n",
            "92 (261, 3, 0)\n",
            "93 (331, 3, 0)\n",
            "94 (114, 3, 0)\n",
            "95 (104, 3, 0)\n",
            "96 (81, 3, 0)\n",
            "97 (104, 3, 0)\n",
            "98 (104, 3, 0)\n",
            "99 (27, 3, 0)\n",
            "100 (74, 3, 0)\n",
            "101 (116, 3, 0)\n",
            "102 (100, 3, 0)\n",
            "103 (67, 3, 0)\n",
            "104 (125, 3, 0)\n",
            "105 (114, 3, 0)\n",
            "106 (275, 3, 0)\n",
            "107 (125, 3, 0)\n",
            "108 (328, 3, 0)\n",
            "109 (232, 3, 0)\n",
            "110 (140, 3, 0)\n",
            "111 (327, 3, 0)\n",
            "112 (330, 3, 0)\n",
            "113 (232, 3, 0)\n",
            "114 (182, 3, 0)\n",
            "115 (337, 3, 0)\n",
            "116 (117, 3, 0)\n",
            "117 (113, 3, 0)\n",
            "118 (71, 3, 0)\n",
            "119 (107, 3, 0)\n",
            "120 (104, 3, 0)\n",
            "121 (145, 3, 0)\n",
            "122 (181, 3, 0)\n",
            "123 (232, 3, 0)\n",
            "124 (48, 3, 0)\n",
            "125 (280, 3, 0)\n",
            "126 (364, 3, 0)\n",
            "127 (81, 3, 0)\n",
            "128 (68, 3, 0)\n",
            "129 (81, 3, 0)\n",
            "130 (281, 3, 0)\n",
            "131 (143, 3, 0)\n",
            "132 (181, 3, 0)\n",
            "133 (401, 3, 0)\n",
            "134 (330, 3, 0)\n",
            "135 (235, 3, 0)\n",
            "136 (235, 3, 0)\n",
            "137 (327, 3, 0)\n",
            "138 (81, 3, 0)\n",
            "139 (104, 3, 0)\n",
            "140 (70, 3, 0)\n",
            "141 (78, 3, 0)\n",
            "142 (117, 3, 0)\n",
            "143 (74, 3, 0)\n",
            "144 (113, 3, 0)\n",
            "145 (65, 3, 0)\n",
            "146 (331, 3, 0)\n",
            "147 (334, 3, 0)\n",
            "148 (81, 3, 0)\n",
            "149 (214, 3, 0)\n",
            "150 (69, 3, 0)\n",
            "151 (232, 3, 0)\n",
            "152 (104, 3, 0)\n",
            "153 (110, 3, 0)\n",
            "154 (261, 3, 0)\n",
            "155 (103, 3, 0)\n",
            "156 (64, 3, 0)\n",
            "157 (306, 3, 0)\n",
            "158 (46, 3, 0)\n",
            "159 (322, 3, 0)\n",
            "160 (207, 3, 0)\n",
            "161 (161, 3, 0)\n",
            "162 (285, 3, 0)\n",
            "163 (76, 3, 0)\n",
            "164 (327, 3, 0)\n",
            "165 (275, 3, 0)\n",
            "166 (114, 3, 0)\n",
            "167 (65, 3, 0)\n",
            "168 (232, 3, 0)\n",
            "169 (235, 3, 0)\n",
            "170 (232, 3, 0)\n",
            "171 (327, 3, 0)\n",
            "172 (126, 3, 0)\n",
            "173 (330, 3, 0)\n",
            "174 (334, 3, 0)\n",
            "175 (114, 3, 0)\n",
            "176 (81, 3, 0)\n",
            "177 (105, 3, 0)\n",
            "178 (67, 3, 0)\n",
            "179 (327, 3, 0)\n",
            "180 (70, 3, 0)\n",
            "181 (117, 3, 0)\n",
            "182 (235, 3, 0)\n",
            "183 (104, 3, 0)\n",
            "184 (72, 3, 0)\n",
            "185 (232, 3, 0)\n",
            "186 (104, 3, 0)\n",
            "187 (45, 3, 0)\n",
            "188 (62, 3, 0)\n",
            "189 (114, 3, 0)\n",
            "190 (78, 3, 0)\n",
            "191 (104, 3, 0)\n",
            "192 (78, 3, 0)\n",
            "193 (81, 3, 0)\n",
            "194 (275, 3, 0)\n",
            "195 (117, 3, 0)\n",
            "196 (114, 3, 0)\n",
            "197 (113, 3, 0)\n",
            "198 (235, 3, 0)\n",
            "199 (275, 3, 0)\n",
            "200 (78, 3, 0)\n",
            "201 (65, 3, 0)\n",
            "202 (113, 3, 0)\n",
            "203 (100, 3, 0)\n",
            "204 (78, 3, 0)\n",
            "205 (117, 3, 0)\n",
            "206 (454, 3, 0)\n",
            "207 (139, 3, 0)\n",
            "208 (266, 3, 0)\n",
            "209 (232, 3, 0)\n",
            "210 (110, 3, 0)\n",
            "211 (180, 3, 0)\n",
            "212 (232, 3, 0)\n",
            "213 (76, 3, 0)\n",
            "214 (114, 3, 0)\n",
            "215 (275, 3, 0)\n",
            "216 (140, 3, 0)\n",
            "217 (79, 3, 0)\n",
            "218 (261, 3, 0)\n",
            "219 (71, 3, 0)\n",
            "220 (114, 3, 0)\n",
            "221 (105, 3, 0)\n",
            "222 (114, 3, 0)\n",
            "223 (69, 3, 0)\n",
            "224 (113, 3, 0)\n",
            "225 (117, 3, 0)\n",
            "226 (100, 3, 0)\n",
            "227 (327, 3, 0)\n",
            "228 (84, 3, 0)\n",
            "229 (275, 3, 0)\n",
            "230 (78, 3, 0)\n",
            "231 (200, 3, 0)\n",
            "232 (261, 3, 0)\n",
            "233 (82, 3, 0)\n",
            "234 (104, 3, 0)\n",
            "235 (70, 3, 0)\n",
            "236 (327, 3, 0)\n",
            "237 (402, 3, 0)\n",
            "238 (328, 3, 0)\n",
            "239 (70, 3, 0)\n",
            "240 (104, 3, 0)\n",
            "241 (67, 3, 0)\n",
            "242 (110, 3, 0)\n",
            "243 (117, 3, 0)\n",
            "244 (113, 3, 0)\n",
            "245 (76, 3, 0)\n",
            "246 (133, 3, 0)\n",
            "247 (327, 3, 0)\n",
            "248 (46, 3, 0)\n",
            "249 (327, 3, 0)\n"
          ]
        },
        {
          "output_type": "error",
          "ename": "ValueError",
          "evalue": "ignored",
          "traceback": [
            "\u001b[0;31m---------------------------------------------------------------------------\u001b[0m",
            "\u001b[0;31mValueError\u001b[0m                                Traceback (most recent call last)",
            "\u001b[0;32m<ipython-input-4-d99eeb39af05>\u001b[0m in \u001b[0;36m<cell line: 16>\u001b[0;34m()\u001b[0m\n\u001b[1;32m     14\u001b[0m \u001b[0mxo_temp\u001b[0m \u001b[0;34m=\u001b[0m \u001b[0mxseq_test\u001b[0m\u001b[0;34m[\u001b[0m\u001b[0mi\u001b[0m\u001b[0;34m*\u001b[0m\u001b[0;36m100\u001b[0m\u001b[0;34m:\u001b[0m\u001b[0;34m(\u001b[0m\u001b[0mi\u001b[0m\u001b[0;34m+\u001b[0m\u001b[0;36m1\u001b[0m\u001b[0;34m)\u001b[0m\u001b[0;34m*\u001b[0m\u001b[0;36m100\u001b[0m\u001b[0;34m]\u001b[0m\u001b[0;34m\u001b[0m\u001b[0;34m\u001b[0m\u001b[0m\n\u001b[1;32m     15\u001b[0m \u001b[0myo_test\u001b[0m \u001b[0;34m=\u001b[0m \u001b[0my_test\u001b[0m\u001b[0;34m[\u001b[0m\u001b[0mi\u001b[0m\u001b[0;34m*\u001b[0m\u001b[0;36m100\u001b[0m\u001b[0;34m:\u001b[0m\u001b[0;34m(\u001b[0m\u001b[0mi\u001b[0m\u001b[0;34m+\u001b[0m\u001b[0;36m1\u001b[0m\u001b[0;34m)\u001b[0m\u001b[0;34m*\u001b[0m\u001b[0;36m100\u001b[0m\u001b[0;34m]\u001b[0m\u001b[0;34m\u001b[0m\u001b[0;34m\u001b[0m\u001b[0m\n\u001b[0;32m---> 16\u001b[0;31m \u001b[0mmodel\u001b[0m\u001b[0;34m.\u001b[0m\u001b[0mevaluate\u001b[0m\u001b[0;34m(\u001b[0m\u001b[0mxo_temp\u001b[0m\u001b[0;34m,\u001b[0m\u001b[0myo_test\u001b[0m\u001b[0;34m)\u001b[0m\u001b[0;34m\u001b[0m\u001b[0;34m\u001b[0m\u001b[0m\n\u001b[0m",
            "\u001b[0;32m/usr/local/lib/python3.10/dist-packages/keras/utils/traceback_utils.py\u001b[0m in \u001b[0;36merror_handler\u001b[0;34m(*args, **kwargs)\u001b[0m\n\u001b[1;32m     68\u001b[0m             \u001b[0;31m# To get the full stack trace, call:\u001b[0m\u001b[0;34m\u001b[0m\u001b[0;34m\u001b[0m\u001b[0m\n\u001b[1;32m     69\u001b[0m             \u001b[0;31m# `tf.debugging.disable_traceback_filtering()`\u001b[0m\u001b[0;34m\u001b[0m\u001b[0;34m\u001b[0m\u001b[0m\n\u001b[0;32m---> 70\u001b[0;31m             \u001b[0;32mraise\u001b[0m \u001b[0me\u001b[0m\u001b[0;34m.\u001b[0m\u001b[0mwith_traceback\u001b[0m\u001b[0;34m(\u001b[0m\u001b[0mfiltered_tb\u001b[0m\u001b[0;34m)\u001b[0m \u001b[0;32mfrom\u001b[0m \u001b[0;32mNone\u001b[0m\u001b[0;34m\u001b[0m\u001b[0;34m\u001b[0m\u001b[0m\n\u001b[0m\u001b[1;32m     71\u001b[0m         \u001b[0;32mfinally\u001b[0m\u001b[0;34m:\u001b[0m\u001b[0;34m\u001b[0m\u001b[0;34m\u001b[0m\u001b[0m\n\u001b[1;32m     72\u001b[0m             \u001b[0;32mdel\u001b[0m \u001b[0mfiltered_tb\u001b[0m\u001b[0;34m\u001b[0m\u001b[0;34m\u001b[0m\u001b[0m\n",
            "\u001b[0;32m/usr/local/lib/python3.10/dist-packages/keras/engine/training.py\u001b[0m in \u001b[0;36mtf__test_function\u001b[0;34m(iterator)\u001b[0m\n\u001b[1;32m     13\u001b[0m                 \u001b[0;32mtry\u001b[0m\u001b[0;34m:\u001b[0m\u001b[0;34m\u001b[0m\u001b[0;34m\u001b[0m\u001b[0m\n\u001b[1;32m     14\u001b[0m                     \u001b[0mdo_return\u001b[0m \u001b[0;34m=\u001b[0m \u001b[0;32mTrue\u001b[0m\u001b[0;34m\u001b[0m\u001b[0;34m\u001b[0m\u001b[0m\n\u001b[0;32m---> 15\u001b[0;31m                     \u001b[0mretval_\u001b[0m \u001b[0;34m=\u001b[0m \u001b[0mag__\u001b[0m\u001b[0;34m.\u001b[0m\u001b[0mconverted_call\u001b[0m\u001b[0;34m(\u001b[0m\u001b[0mag__\u001b[0m\u001b[0;34m.\u001b[0m\u001b[0mld\u001b[0m\u001b[0;34m(\u001b[0m\u001b[0mstep_function\u001b[0m\u001b[0;34m)\u001b[0m\u001b[0;34m,\u001b[0m \u001b[0;34m(\u001b[0m\u001b[0mag__\u001b[0m\u001b[0;34m.\u001b[0m\u001b[0mld\u001b[0m\u001b[0;34m(\u001b[0m\u001b[0mself\u001b[0m\u001b[0;34m)\u001b[0m\u001b[0;34m,\u001b[0m \u001b[0mag__\u001b[0m\u001b[0;34m.\u001b[0m\u001b[0mld\u001b[0m\u001b[0;34m(\u001b[0m\u001b[0miterator\u001b[0m\u001b[0;34m)\u001b[0m\u001b[0;34m)\u001b[0m\u001b[0;34m,\u001b[0m \u001b[0;32mNone\u001b[0m\u001b[0;34m,\u001b[0m \u001b[0mfscope\u001b[0m\u001b[0;34m)\u001b[0m\u001b[0;34m\u001b[0m\u001b[0;34m\u001b[0m\u001b[0m\n\u001b[0m\u001b[1;32m     16\u001b[0m                 \u001b[0;32mexcept\u001b[0m\u001b[0;34m:\u001b[0m\u001b[0;34m\u001b[0m\u001b[0;34m\u001b[0m\u001b[0m\n\u001b[1;32m     17\u001b[0m                     \u001b[0mdo_return\u001b[0m \u001b[0;34m=\u001b[0m \u001b[0;32mFalse\u001b[0m\u001b[0;34m\u001b[0m\u001b[0;34m\u001b[0m\u001b[0m\n",
            "\u001b[0;31mValueError\u001b[0m: in user code:\n\n    File \"/usr/local/lib/python3.10/dist-packages/keras/engine/training.py\", line 1852, in test_function  *\n        return step_function(self, iterator)\n    File \"/usr/local/lib/python3.10/dist-packages/keras/engine/training.py\", line 1836, in step_function  **\n        outputs = model.distribute_strategy.run(run_step, args=(data,))\n    File \"/usr/local/lib/python3.10/dist-packages/keras/engine/training.py\", line 1824, in run_step  **\n        outputs = model.test_step(data)\n    File \"/usr/local/lib/python3.10/dist-packages/keras/engine/training.py\", line 1788, in test_step\n        y_pred = self(x, training=False)\n    File \"/usr/local/lib/python3.10/dist-packages/keras/utils/traceback_utils.py\", line 70, in error_handler\n        raise e.with_traceback(filtered_tb) from None\n    File \"/usr/local/lib/python3.10/dist-packages/keras/engine/input_spec.py\", line 235, in assert_input_compatibility\n        raise ValueError(\n\n    ValueError: Exception encountered when calling layer 'sequential' (type Sequential).\n    \n    Input 0 of layer \"simple_rnn\" is incompatible with the layer: expected ndim=3, found ndim=2. Full shape received: (None, 150)\n    \n    Call arguments received by layer 'sequential' (type Sequential):\n      • inputs=tf.Tensor(shape=(None, 150), dtype=int32)\n      • training=False\n      • mask=None\n"
          ]
        }
      ]
    },
    {
      "cell_type": "code",
      "source": [
        "i=0\n",
        "xtemp = xseq_test[i*100:(i+1)*100]\n",
        "xo_temp = keras.utils.to_categorical(xtemp,\n",
        "                                        num_classes=30000)\n",
        "yo_test = y_test[i*100:(i+1)*100]\n",
        "model.evaluate(xo_temp,yo_test)"
      ],
      "metadata": {
        "colab": {
          "base_uri": "https://localhost:8080/"
        },
        "id": "_qbaGJ2zKsEZ",
        "outputId": "3320069a-37ac-4253-82d5-2114bf62775a"
      },
      "execution_count": 5,
      "outputs": [
        {
          "output_type": "stream",
          "name": "stdout",
          "text": [
            "4/4 [==============================] - 3s 483ms/step - loss: 0.5232\n"
          ]
        },
        {
          "output_type": "execute_result",
          "data": {
            "text/plain": [
              "0.5231642723083496"
            ]
          },
          "metadata": {},
          "execution_count": 5
        }
      ]
    },
    {
      "cell_type": "code",
      "source": [
        "model2 = keras.models.load_model('/content/cp.h5')\n",
        "cp = keras.callbacks.ModelCheckpoint('cp1.h5',save_best_only=True)"
      ],
      "metadata": {
        "id": "zSWDtDf6nj5j"
      },
      "execution_count": 6,
      "outputs": []
    },
    {
      "cell_type": "code",
      "source": [
        "for i in range(250):\n",
        "  print(i,end=' ')\n",
        "  xtemp = xseq_train[i*100:(i+1)*100]\n",
        "  xo_train = keras.utils.to_categorical(xtemp,\n",
        "                                        num_classes=30000)\n",
        "  yo_train = y_train[i*100:(i+1)*100]\n",
        "  model.fit(xo_train,yo_train,\n",
        "            callbacks=[cp],\n",
        "            validation_split=0.1,verbose=0)\n",
        "  del xo_train\n",
        "  print(gc.get_count())\n",
        "  gc.collect()"
      ],
      "metadata": {
        "colab": {
          "base_uri": "https://localhost:8080/"
        },
        "id": "viwUstwPc4ur",
        "outputId": "1db4b9f6-03ba-4fe0-d89a-df8010d1fdac"
      },
      "execution_count": 7,
      "outputs": [
        {
          "output_type": "stream",
          "name": "stdout",
          "text": [
            "0 (420, 0, 1)\n",
            "1 (108, 3, 0)\n",
            "2 (269, 3, 0)\n",
            "3 (135, 3, 0)\n",
            "4 (114, 3, 0)\n",
            "5 (121, 3, 0)\n",
            "6 (99, 3, 0)\n",
            "7 (78, 3, 0)\n",
            "8 (80, 3, 0)\n",
            "9 (121, 3, 0)\n",
            "10 (332, 3, 0)\n",
            "11 (136, 3, 0)\n",
            "12 (121, 3, 0)\n",
            "13 (214, 3, 0)\n",
            "14 (115, 3, 0)\n",
            "15 (123, 3, 0)\n",
            "16 (112, 3, 0)\n",
            "17 (88, 3, 0)\n",
            "18 (78, 3, 0)\n",
            "19 (334, 3, 0)\n",
            "20 (116, 3, 0)\n",
            "21 (123, 3, 0)\n",
            "22 (242, 3, 0)\n",
            "23 (110, 3, 0)\n",
            "24 (73, 3, 0)\n",
            "25 (100, 3, 0)\n",
            "26 (79, 3, 0)\n",
            "27 (83, 3, 0)\n",
            "28 (358, 3, 0)\n",
            "29 (79, 3, 0)\n",
            "30 (147, 3, 0)\n",
            "31 (240, 3, 0)\n",
            "32 (114, 3, 0)\n",
            "33 (81, 3, 0)\n",
            "34 (130, 3, 0)\n",
            "35 (107, 3, 0)\n",
            "36 (140, 3, 0)\n",
            "37 (65, 3, 0)\n",
            "38 (80, 3, 0)\n",
            "39 (386, 3, 0)\n",
            "40 (108, 3, 0)\n",
            "41 (78, 3, 0)\n",
            "42 (214, 3, 0)\n",
            "43 (81, 3, 0)\n",
            "44 (100, 3, 0)\n",
            "45 (65, 3, 0)\n",
            "46 (88, 3, 0)\n",
            "47 (114, 3, 0)\n",
            "48 (109, 3, 0)\n",
            "49 (55, 3, 0)\n",
            "50 (245, 3, 0)\n",
            "51 (199, 3, 0)\n",
            "52 (214, 3, 0)\n",
            "53 (78, 3, 0)\n",
            "54 (335, 3, 0)\n",
            "55 (113, 3, 0)\n",
            "56 (126, 3, 0)\n",
            "57 (78, 3, 0)\n",
            "58 (109, 3, 0)\n",
            "59 (109, 3, 0)\n",
            "60 (65, 3, 0)\n",
            "61 (123, 3, 0)\n",
            "62 (330, 3, 0)\n",
            "63 (386, 3, 0)\n",
            "64 (126, 3, 0)\n",
            "65 (240, 3, 0)\n",
            "66 (78, 3, 0)\n",
            "67 (136, 3, 0)\n",
            "68 (116, 3, 0)\n",
            "69 (105, 3, 0)\n",
            "70 (140, 3, 0)\n",
            "71 (108, 3, 0)\n",
            "72 (240, 3, 0)\n",
            "73 (239, 3, 0)\n",
            "74 (81, 3, 0)\n",
            "75 (110, 3, 0)\n",
            "76 (78, 3, 0)\n",
            "77 (327, 3, 0)\n",
            "78 (75, 3, 0)\n",
            "79 (109, 3, 0)\n",
            "80 (100, 3, 0)\n",
            "81 (58, 3, 0)\n",
            "82 (109, 3, 0)\n",
            "83 (75, 3, 0)\n",
            "84 (242, 3, 0)\n",
            "85 (136, 3, 0)\n",
            "86 (240, 3, 0)\n",
            "87 (115, 3, 0)\n",
            "88 (121, 3, 0)\n",
            "89 (73, 3, 0)\n",
            "90 (114, 3, 0)\n",
            "91 (314, 3, 0)\n",
            "92 (361, 3, 0)\n",
            "93 (80, 3, 0)\n",
            "94 (173, 3, 0)\n",
            "95 (136, 3, 0)\n",
            "96 (65, 3, 0)\n",
            "97 (240, 3, 0)\n",
            "98 (132, 3, 0)\n",
            "99 (77, 3, 0)\n",
            "100 (282, 3, 0)\n",
            "101 (74, 3, 0)\n",
            "102 (80, 3, 0)\n",
            "103 (104, 3, 0)\n",
            "104 (135, 3, 0)\n",
            "105 (116, 3, 0)\n",
            "106 (240, 3, 0)\n",
            "107 (121, 3, 0)\n",
            "108 (75, 3, 0)\n",
            "109 (240, 3, 0)\n",
            "110 (105, 3, 0)\n",
            "111 (121, 3, 0)\n",
            "112 (64, 3, 0)\n",
            "113 (80, 3, 0)\n",
            "114 (110, 3, 0)\n",
            "115 (100, 3, 0)\n",
            "116 (74, 3, 0)\n",
            "117 (75, 3, 0)\n",
            "118 (242, 3, 0)\n",
            "119 (270, 3, 0)\n",
            "120 (69, 3, 0)\n",
            "121 (100, 3, 0)\n",
            "122 (80, 3, 0)\n",
            "123 (126, 3, 0)\n",
            "124 (116, 3, 0)\n",
            "125 (173, 3, 0)\n",
            "126 (160, 3, 0)\n",
            "127 (99, 3, 0)\n",
            "128 (80, 3, 0)\n",
            "129 (121, 3, 0)\n",
            "130 (173, 3, 0)\n",
            "131 (114, 3, 0)\n",
            "132 (138, 3, 0)\n",
            "133 (114, 3, 0)\n",
            "134 (109, 3, 0)\n",
            "135 (240, 3, 0)\n",
            "136 (80, 3, 0)\n",
            "137 (114, 3, 0)\n",
            "138 (80, 3, 0)\n",
            "139 (285, 3, 0)\n",
            "140 (137, 3, 0)\n",
            "141 (78, 3, 0)\n",
            "142 (101, 3, 0)\n",
            "143 (75, 3, 0)\n",
            "144 (74, 3, 0)\n",
            "145 (240, 3, 0)\n",
            "146 (75, 3, 0)\n",
            "147 (80, 3, 0)\n",
            "148 (108, 3, 0)\n",
            "149 (110, 3, 0)\n",
            "150 (78, 3, 0)\n",
            "151 (212, 3, 0)\n",
            "152 (126, 3, 0)\n",
            "153 (122, 3, 0)\n",
            "154 (330, 3, 0)\n",
            "155 (80, 3, 0)\n",
            "156 (133, 3, 0)\n",
            "157 (100, 3, 0)\n",
            "158 (264, 3, 0)\n",
            "159 (173, 3, 0)\n",
            "160 (99, 3, 0)\n",
            "161 (110, 3, 0)\n",
            "162 (264, 3, 0)\n",
            "163 (109, 3, 0)\n",
            "164 (98, 3, 0)\n",
            "165 (106, 3, 0)\n",
            "166 (286, 3, 0)\n",
            "167 (115, 3, 0)\n",
            "168 (75, 3, 0)\n",
            "169 (98, 3, 0)\n",
            "170 (81, 3, 0)\n",
            "171 (108, 3, 0)\n",
            "172 (77, 3, 0)\n",
            "173 (114, 3, 0)\n",
            "174 (78, 3, 0)\n",
            "175 (240, 3, 0)\n",
            "176 (73, 3, 0)\n",
            "177 (344, 3, 0)\n",
            "178 (283, 3, 0)\n",
            "179 (116, 3, 0)\n",
            "180 (135, 3, 0)\n",
            "181 (100, 3, 0)\n",
            "182 (75, 3, 0)\n",
            "183 (74, 3, 0)\n",
            "184 (240, 3, 0)\n",
            "185 (96, 3, 0)\n",
            "186 (157, 3, 0)\n",
            "187 (74, 3, 0)\n",
            "188 (78, 3, 0)\n",
            "189 (78, 3, 0)\n",
            "190 (121, 3, 0)\n",
            "191 (81, 3, 0)\n",
            "192 (185, 3, 0)\n",
            "193 (47, 3, 0)\n",
            "194 (83, 3, 0)\n",
            "195 (116, 3, 0)\n",
            "196 (329, 3, 0)\n",
            "197 (269, 3, 0)\n",
            "198 (80, 3, 0)\n",
            "199 (323, 3, 0)\n",
            "200 (74, 3, 0)\n",
            "201 (81, 3, 0)\n",
            "202 (109, 3, 0)\n",
            "203 (108, 3, 0)\n",
            "204 (80, 3, 0)\n",
            "205 (329, 3, 0)\n",
            "206 (242, 3, 0)\n",
            "207 (240, 3, 0)\n",
            "208 (116, 3, 0)\n",
            "209 (282, 3, 0)\n",
            "210 (78, 3, 0)\n",
            "211 (80, 3, 0)\n",
            "212 (104, 3, 0)\n",
            "213 (106, 3, 0)\n",
            "214 (103, 3, 0)\n",
            "215 (155, 3, 0)\n",
            "216 (134, 3, 0)\n",
            "217 (99, 3, 0)\n",
            "218 (78, 3, 0)\n",
            "219 (66, 3, 0)\n",
            "220 (66, 3, 0)\n",
            "221 (109, 3, 0)\n",
            "222 (101, 3, 0)\n",
            "223 (74, 3, 0)\n",
            "224 (240, 3, 0)\n",
            "225 (114, 3, 0)\n",
            "226 (67, 3, 0)\n",
            "227 (240, 3, 0)\n",
            "228 (57, 3, 0)\n",
            "229 (313, 3, 0)\n",
            "230 (316, 3, 0)\n",
            "231 (240, 3, 0)\n",
            "232 (79, 3, 0)\n",
            "233 (115, 3, 0)\n",
            "234 (242, 3, 0)\n",
            "235 (121, 3, 0)\n",
            "236 (114, 3, 0)\n",
            "237 (65, 3, 0)\n",
            "238 (241, 3, 0)\n",
            "239 (114, 3, 0)\n",
            "240 (240, 3, 0)\n",
            "241 (81, 3, 0)\n",
            "242 (163, 3, 0)\n",
            "243 (122, 3, 0)\n",
            "244 (282, 3, 0)\n",
            "245 (114, 3, 0)\n",
            "246 (78, 3, 0)\n",
            "247 (78, 3, 0)\n",
            "248 (322, 3, 0)\n",
            "249 (173, 3, 0)\n"
          ]
        }
      ]
    },
    {
      "cell_type": "code",
      "source": [
        "i=1\n",
        "xtemp = xseq_test[i*100:(i+1)*100]\n",
        "xo_temp = keras.utils.to_categorical(xtemp,\n",
        "                                        num_classes=30000)\n",
        "yo_test = y_test[i*100:(i+1)*100]\n",
        "model.evaluate(xo_temp,yo_test)"
      ],
      "metadata": {
        "colab": {
          "base_uri": "https://localhost:8080/"
        },
        "id": "I70iGSJMdbOn",
        "outputId": "d69de1c6-b08b-4613-a107-c3310caafac7"
      },
      "execution_count": 8,
      "outputs": [
        {
          "output_type": "stream",
          "name": "stdout",
          "text": [
            "4/4 [==============================] - 3s 553ms/step - loss: 0.3725\n"
          ]
        },
        {
          "output_type": "execute_result",
          "data": {
            "text/plain": [
              "0.37246331572532654"
            ]
          },
          "metadata": {},
          "execution_count": 8
        }
      ]
    },
    {
      "cell_type": "code",
      "source": [],
      "metadata": {
        "id": "Y5OiJYby8ANN"
      },
      "execution_count": null,
      "outputs": []
    }
  ]
}