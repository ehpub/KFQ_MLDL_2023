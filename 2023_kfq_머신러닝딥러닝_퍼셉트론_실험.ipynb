{
  "nbformat": 4,
  "nbformat_minor": 0,
  "metadata": {
    "colab": {
      "provenance": [],
      "authorship_tag": "ABX9TyMatFJ+4UydhJdyUIbWcl87",
      "include_colab_link": true
    },
    "kernelspec": {
      "name": "python3",
      "display_name": "Python 3"
    },
    "language_info": {
      "name": "python"
    }
  },
  "cells": [
    {
      "cell_type": "markdown",
      "metadata": {
        "id": "view-in-github",
        "colab_type": "text"
      },
      "source": [
        "<a href=\"https://colab.research.google.com/github/ehpub/KFQ_MLDL_2023/blob/main/2023_kfq_%EB%A8%B8%EC%8B%A0%EB%9F%AC%EB%8B%9D%EB%94%A5%EB%9F%AC%EB%8B%9D_%ED%8D%BC%EC%85%89%ED%8A%B8%EB%A1%A0_%EC%8B%A4%ED%97%98.ipynb\" target=\"_parent\"><img src=\"https://colab.research.google.com/assets/colab-badge.svg\" alt=\"Open In Colab\"/></a>"
      ]
    },
    {
      "cell_type": "markdown",
      "source": [
        "강의 교재 : https://wikibook.co.kr/mymlrev/"
      ],
      "metadata": {
        "id": "P2utsbaWpsBr"
      }
    },
    {
      "cell_type": "code",
      "execution_count": 1,
      "metadata": {
        "id": "5oltqT64plpf"
      },
      "outputs": [],
      "source": [
        "import numpy as np"
      ]
    },
    {
      "cell_type": "code",
      "source": [
        "class Perceptron:\n",
        "  def __init__(self):\n",
        "    self.w1 = 0\n",
        "    self.w2 = 0\n",
        "    self.b = 0\n",
        "  def discriminate(self,x1,x2):\n",
        "    if self.w1*x1 + self.w2*x2+self.b<=0:\n",
        "      return 0\n",
        "    return 1\n",
        "  def test(self,x,y,wt1,wt2,bt):\n",
        "    self.w1 = wt1\n",
        "    self.w2 = wt2\n",
        "    self.b = bt\n",
        "    ok = 0\n",
        "    for i,(x1,x2) in enumerate(x):\n",
        "      if self.discriminate(x1,x2) == y[i]:\n",
        "        ok+=1\n",
        "    return ok/len(x)\n",
        "  def fit(self,x,y):\n",
        "    best = 0\n",
        "    wb1 = 0,\n",
        "    wb2 = 0,\n",
        "    bb = 0\n",
        "    for wt1 in np.arange(0,2,0.1):\n",
        "      for wt2 in np.arange(0,2,0.1):\n",
        "        for bt in np.arange(-2,2,0.1):\n",
        "          score = self.test(x,y,wt1,wt2,bt)\n",
        "          if score>best:\n",
        "            best = score\n",
        "            wb1,wb2,bb = wt1,wt2,bt\n",
        "    self.w1 = wb1\n",
        "    self.w2 = wb2\n",
        "    self.b = bb\n",
        "    print(best)\n",
        "  def predict(self,x):\n",
        "    result = []\n",
        "    for x1,x2 in x:\n",
        "      result.append(self.discriminate(x1,x2))\n",
        "    return result"
      ],
      "metadata": {
        "id": "mMfFr4HEt7I4"
      },
      "execution_count": 23,
      "outputs": []
    },
    {
      "cell_type": "code",
      "source": [
        "x = [[0,0],\n",
        "     [0,1],\n",
        "     [1,0],\n",
        "     [1,1]]\n",
        "y = [0,1,1,1]"
      ],
      "metadata": {
        "id": "CAMjt5R_1U_Z"
      },
      "execution_count": 21,
      "outputs": []
    },
    {
      "cell_type": "code",
      "source": [
        "model = Perceptron()\n",
        "model.fit(x,y)\n",
        "print(model.w1,model.w2,model.b)"
      ],
      "metadata": {
        "colab": {
          "base_uri": "https://localhost:8080/"
        },
        "id": "Mi7axUcRx7Zi",
        "outputId": "cd4bfa6f-b4de-4dd7-f944-1882cb53c64b"
      },
      "execution_count": 22,
      "outputs": [
        {
          "output_type": "stream",
          "name": "stdout",
          "text": [
            "1.0\n",
            "0.1 0.1 -0.09999999999999831\n"
          ]
        }
      ]
    },
    {
      "cell_type": "code",
      "source": [
        "xt = [[0,0],[1,0]]\n",
        "model.predict(xt)"
      ],
      "metadata": {
        "colab": {
          "base_uri": "https://localhost:8080/"
        },
        "id": "VszQpzmXyJ8M",
        "outputId": "c124a7ca-449d-4ce9-c7cc-2bbaaa2e22c0"
      },
      "execution_count": 24,
      "outputs": [
        {
          "output_type": "execute_result",
          "data": {
            "text/plain": [
              "[0, 1]"
            ]
          },
          "metadata": {},
          "execution_count": 24
        }
      ]
    },
    {
      "cell_type": "code",
      "source": [
        "x = [[0,0],\n",
        "     [0,1],\n",
        "     [1,0],\n",
        "     [1,1]]\n",
        "y = [0,0,0,1]"
      ],
      "metadata": {
        "id": "XcLH_BOwzP_a"
      },
      "execution_count": 25,
      "outputs": []
    },
    {
      "cell_type": "code",
      "source": [
        "model = Perceptron()\n",
        "model.fit(x,y)\n",
        "model.w1,model.w2,model.b"
      ],
      "metadata": {
        "colab": {
          "base_uri": "https://localhost:8080/"
        },
        "id": "8aD92ERSzdpH",
        "outputId": "85b50112-823a-4a2c-a210-5575d87483bc"
      },
      "execution_count": 26,
      "outputs": [
        {
          "output_type": "stream",
          "name": "stdout",
          "text": [
            "1.0\n"
          ]
        },
        {
          "output_type": "execute_result",
          "data": {
            "text/plain": [
              "(0.1, 0.1, -0.1999999999999984)"
            ]
          },
          "metadata": {},
          "execution_count": 26
        }
      ]
    },
    {
      "cell_type": "code",
      "source": [
        "xt = [[0,0],[1,1]]\n",
        "model.predict(xt)"
      ],
      "metadata": {
        "colab": {
          "base_uri": "https://localhost:8080/"
        },
        "id": "zMIWr61lzo43",
        "outputId": "c11c3478-a35b-4888-93f9-d8e431e806d8"
      },
      "execution_count": 27,
      "outputs": [
        {
          "output_type": "execute_result",
          "data": {
            "text/plain": [
              "[0, 1]"
            ]
          },
          "metadata": {},
          "execution_count": 27
        }
      ]
    },
    {
      "cell_type": "code",
      "source": [],
      "metadata": {
        "id": "5HsyiIcGzr3j"
      },
      "execution_count": null,
      "outputs": []
    }
  ]
}